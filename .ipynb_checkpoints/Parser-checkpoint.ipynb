{
 "cells": [
  {
   "cell_type": "code",
   "execution_count": 148,
   "metadata": {},
   "outputs": [],
   "source": [
    "import json as js\n",
    "from bs4 import BeautifulSoup\n",
    "import requests\n",
    "import numpy as np\n",
    "import re"
   ]
  },
  {
   "cell_type": "code",
   "execution_count": 149,
   "metadata": {},
   "outputs": [],
   "source": [
    "main_page='https://realty.yandex.ru'"
   ]
  },
  {
   "cell_type": "code",
   "execution_count": 10,
   "metadata": {},
   "outputs": [],
   "source": [
    "html_page='C:/Users/dskorokhodov/Documents/realty.html'\n",
    "with open(html_page,'r',encoding='utf-8') as file:\n",
    "    r=BeautifulSoup(file,'lxml')"
   ]
  },
  {
   "cell_type": "code",
   "execution_count": 17,
   "metadata": {
    "scrolled": false
   },
   "outputs": [],
   "source": [
    "ads=r.find_all('li',{'class':'uLU7v5dzwi8DtxwItem uLU7v5dzwi8DtxwItem_view_desktop uLU7v5dzwi8DtxwItem_format_full uLU7v5dzwi8Dtxw__list-item uLU7v5dzwi8Dtxw__list-item_type_offer'})"
   ]
  },
  {
   "cell_type": "code",
   "execution_count": 29,
   "metadata": {},
   "outputs": [],
   "source": [
    "# Застройщик\n",
    "developer=ads[0].find('div',{'class':'uLU7v5dzwi8DtxwAuthor__name'}).text"
   ]
  },
  {
   "cell_type": "code",
   "execution_count": 31,
   "metadata": {},
   "outputs": [],
   "source": [
    "# Тип жилого фонда\n",
    "newbuilding=ads[0].find('div',{'class':'uLU7v5dzwi8DtxwItem__building'}).text"
   ]
  },
  {
   "cell_type": "code",
   "execution_count": 33,
   "metadata": {},
   "outputs": [],
   "source": [
    "# Ближайшая станция метро\n",
    "metro_location= ads[0].find('span',{'class':'MetroStation__title'}).text"
   ]
  },
  {
   "cell_type": "code",
   "execution_count": 37,
   "metadata": {},
   "outputs": [],
   "source": [
    "# Время до ближайшей станции метро\n",
    "metro_distance = ads[0].find('span',{'class':'MetroWithTime__distance'}).text"
   ]
  },
  {
   "cell_type": "code",
   "execution_count": 191,
   "metadata": {},
   "outputs": [],
   "source": [
    "# Добираться пешком или транспортом до ближайшей станции метро\n",
    "if ads[0].find('i',{'class':'Icon Icon_type_small-bus'}):\n",
    "    is_afoot=0\n",
    "elif ads[0].find('i',{'class':'Icon Icon_type_small-pedestrian'}):\n",
    "    is_afoot=1"
   ]
  },
  {
   "cell_type": "code",
   "execution_count": 43,
   "metadata": {},
   "outputs": [],
   "source": [
    "square_n_rooms= ads[0].find('a',{'class':'Link Link_js_inited Link_size_m Link_theme_islands SerpItemLink uLU7v5dzwi8DtxwItem__link'}).text\n",
    "square,number_of_rooms=square_n_rooms.split(',')"
   ]
  },
  {
   "cell_type": "code",
   "execution_count": 45,
   "metadata": {},
   "outputs": [],
   "source": [
    "description=ads[0].find('p',{'class':'uLU7v5dzwi8DtxwItem__description'}).text"
   ]
  },
  {
   "cell_type": "markdown",
   "metadata": {},
   "source": [
    "### Добавляем ссылку на рекламное объявление"
   ]
  },
  {
   "cell_type": "code",
   "execution_count": 47,
   "metadata": {},
   "outputs": [],
   "source": [
    "ad_link=ads[0].find('a',{'class':'Link Link_js_inited Link_size_m Link_theme_islands SerpItemLink uLU7v5dzwi8DtxwItem__link'}).get('href')"
   ]
  },
  {
   "cell_type": "code",
   "execution_count": 147,
   "metadata": {},
   "outputs": [
    {
     "data": {
      "text/plain": [
       "'https://realty.yandex.ru/offer/5205561881435530979/?isExact=YES'"
      ]
     },
     "execution_count": 147,
     "metadata": {},
     "output_type": "execute_result"
    }
   ],
   "source": [
    "ad_link"
   ]
  },
  {
   "cell_type": "markdown",
   "metadata": {},
   "source": [
    "## Отдельно парсим страницу с объявлением"
   ]
  },
  {
   "cell_type": "code",
   "execution_count": 53,
   "metadata": {},
   "outputs": [],
   "source": [
    "def offer_page_scrapping(ad_link):\n",
    "    array=[]\n",
    "    # Получаем ответ на наш запрос от страницы\n",
    "    with requests.get(ad_link) as response_ad_link:\n",
    "        if response_ad_link:\n",
    "            response_ad_link.encoding='utf-8'\n",
    "            soupformat_page=BeautifulSoup(response_ad_link.text,'lxml')\n",
    "        else:\n",
    "            print(\"An error occured in response_ad_link\")\n",
    "\n",
    "    # Число просмотров объявления\n",
    "    count_views=soupformat_page.find('span',{'class':'ViewsCount'}).text\n",
    "    count_views=int(count_views.replace(u'\\xa0',u'').split(':')[-1])\n",
    "\n",
    "    # Дата размещения объявления\n",
    "    offer_date=soupformat_page.find('div',{'class':'OfferPublishedDate OfferBaseMetaInfo__item'}).text\n",
    "    offer_date=offer_date.replace(u'\\xa0',u' ')\n",
    "\n",
    "    # Описание сделки\n",
    "    offer_deal_des=soupformat_page.find('span',{'class':'OfferDealDescription__sell-info'}).text\n",
    "  \n",
    "    # Дата сдачи дома,тип сделки\n",
    "    flat_deadline_date,flat_deal_type=soupformat_page.find('p',{'class':'OfferSellInfo'}).text.split(',')\n",
    "\n",
    "    offer_tech_des=soupformat_page.find_all('ul',{'class':'ColumnsList OfferTechDescription__list'})\n",
    "    offer_tech_des=offer_tech_des[0].find_all('div',{'class':'ColumnsList__item'})\n",
    "\n",
    "    # Общая площадь квартиры, жилая площадь, площадь кухни, количество комнат, этаж квартиры \n",
    "    flat_total_square,flat_houseroom,flat_kitchen_square,flat_number_rooms,flat_floor=[el.text.replace(u'\\xa0',u' ').replace(u',',u'.') for el in offer_tech_des]\n",
    "\n",
    "    building_info=soupformat_page.find('ul',{'class':'ColumnsList BuildingInfo__features-list'})\n",
    "\n",
    "    building_info=building_info.find_all('span',{'class':'BuildingInfoFeature__by-yandex-data'})\n",
    "\n",
    "    # Застройщик, дата сдачи, материал дома, этажность дома, наличие лифта, охрана дома, парковка \n",
    "    developer_name,house_date,house_material,house_floors,house_elevator,house_security,house_parking=[el.text.replace(u' (по данным Яндекса)',u'') for el in building_info]\n",
    "\n",
    "    district_info=soupformat_page.find_all('div',{'class':'CardShortcutsItem__info'})\n",
    "\n",
    "    descr=[el.find('div',{'class':'CardShortcutsItem__descr'}).text for el in district_info]\n",
    "\n",
    "    del descr[0:2]\n",
    "    # Доступность каршеринга , транспортная доступность, стоимость жилья в районе, стоимость аренды в районе, окупаемость недвижимости в районе\n",
    "    access_carsharing,access_transport,distinct_flat_price,distinct_flat_lease,distinct_payback=descr\n",
    "\n",
    "    # Ссылка на станицу застройщика\n",
    "    developer_link=soupformat_page.find('a',{'class':'Link Link_js_inited Link_size_m Link_theme_islands CardDevBadge__name'}).get('href')\n",
    "\n",
    "    developer_link='https://realty.yandex.ru'+developer_link\n",
    "    return [\n",
    "            count_views, offer_date, offer_deal_des,\n",
    "            flat_deadline_date, flat_deal_type, flat_total_square,\n",
    "            flat_houseroom, flat_kitchen_square, flat_number_rooms,\n",
    "            flat_floor, developer_name, house_date,\n",
    "            house_material, house_floors, house_elevator,\n",
    "            house_security, house_parking, access_carsharing,\n",
    "            access_transport, distinct_flat_price, distinct_flat_lease, \n",
    "            distinct_payback,\n",
    "            ]"
   ]
  },
  {
   "cell_type": "markdown",
   "metadata": {},
   "source": [
    "## Отдельно парсим страницу застройщика"
   ]
  },
  {
   "cell_type": "code",
   "execution_count": 164,
   "metadata": {},
   "outputs": [],
   "source": [
    "with requests.get(developer_link) as response_dev_link:\n",
    "    if response_dev_link:\n",
    "        response_dev_link.encoding='utf-8'\n",
    "        soupformat_page_dev=BeautifulSoup(response_dev_link.text,'lxml')\n",
    "    else:\n",
    "        print(\"An error has occured in response_dev_link\")\n",
    "\n",
    "dev_card=soupformat_page_dev.find_all('span',{'class':'DeveloperCardAbout__object-text'})"
   ]
  },
  {
   "cell_type": "code",
   "execution_count": 187,
   "metadata": {},
   "outputs": [],
   "source": [
    "# Построено домов, домов строится, год учреждения организации застройщика\n",
    "houses_built,houses_in_building,foundation_date=[el.text.replace(u'\\xa0',u' ') for el in dev_card]\n",
    "\n",
    "\n",
    "\n",
    "parced = js.loads(r)\n",
    "\n"
   ]
  }
 ],
 "metadata": {
  "kernelspec": {
   "display_name": "Python 3",
   "language": "python",
   "name": "python3"
  },
  "language_info": {
   "codemirror_mode": {
    "name": "ipython",
    "version": 3
   },
   "file_extension": ".py",
   "mimetype": "text/x-python",
   "name": "python",
   "nbconvert_exporter": "python",
   "pygments_lexer": "ipython3",
   "version": "3.8.5"
  }
 },
 "nbformat": 4,
 "nbformat_minor": 4
}
